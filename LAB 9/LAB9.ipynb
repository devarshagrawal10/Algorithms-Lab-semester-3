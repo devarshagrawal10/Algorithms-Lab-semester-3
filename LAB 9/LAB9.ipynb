{
  "nbformat": 4,
  "nbformat_minor": 0,
  "metadata": {
    "colab": {
      "provenance": []
    },
    "kernelspec": {
      "name": "python3",
      "display_name": "Python 3"
    },
    "language_info": {
      "name": "python"
    }
  },
  "cells": [
    {
      "cell_type": "code",
      "execution_count": null,
      "metadata": {
        "id": "uX3L1nJzZF6Z"
      },
      "outputs": [],
      "source": [
        "# Step 1: Upload the results.txt file\n",
        "from google.colab import files\n",
        "uploaded = files.upload()\n",
        "\n",
        "# Step 2: Read results from the uploaded file\n",
        "execution_times = []\n",
        "approaches = []\n",
        "\n",
        "with open('results.txt', 'r') as file:\n",
        "    for line in file:\n",
        "        parts = line.strip().split(',')\n",
        "        approach = parts[0].split(':')[0].strip()  # Extract approach name\n",
        "        time = float(parts[1].split(':')[1].strip().split()[0])  # Extract execution time\n",
        "\n",
        "        approaches.append(approach)\n",
        "        execution_times.append(time)\n",
        "\n",
        "# Step 3: Plotting the graph using matplotlib\n",
        "import matplotlib.pyplot as plt\n",
        "\n",
        "# Creating the bar plot\n",
        "plt.figure(figsize=(10, 6))\n",
        "plt.bar(approaches, execution_times, color=['blue', 'orange', 'green'])\n",
        "plt.xlabel('Approaches')\n",
        "plt.ylabel('Execution Time (seconds)')\n",
        "plt.title('Execution Time Comparison of Knapsack Approaches')\n",
        "plt.xticks(rotation=45)\n",
        "plt.grid(axis='y')\n",
        "\n",
        "# Show the plot\n",
        "plt.tight_layout()\n",
        "plt.show()"
      ]
    }
  ]
}